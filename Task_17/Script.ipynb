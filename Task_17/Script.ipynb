{
  "nbformat": 4,
  "nbformat_minor": 0,
  "metadata": {
    "colab": {
      "provenance": [],
      "authorship_tag": "ABX9TyM7h6E9VPnh9ACrld4NfO6s",
      "include_colab_link": true
    },
    "kernelspec": {
      "name": "python3",
      "display_name": "Python 3"
    },
    "language_info": {
      "name": "python"
    }
  },
  "cells": [
    {
      "cell_type": "markdown",
      "metadata": {
        "id": "view-in-github",
        "colab_type": "text"
      },
      "source": [
        "<a href=\"https://colab.research.google.com/github/KonstantinS007/pythonProject/blob/master/Task_17/Script.ipynb\" target=\"_parent\"><img src=\"https://colab.research.google.com/assets/colab-badge.svg\" alt=\"Open In Colab\"/></a>"
      ]
    },
    {
      "cell_type": "code",
      "source": [
        "# Практика 17_9_1 Алгоритмы и структуры данных\n",
        "# Ввод последовательности чисел\n",
        "# и нахождение индекса числа после сортировки по возрастанию\n",
        "\n",
        "\n",
        "def sort_puz(nums):  # Алгоритмом поиска пузырьком\n",
        "    n = 1\n",
        "    while n < len(nums):\n",
        "        for i in range(len(nums) - n):\n",
        "            if nums[i] > nums[i + 1]:\n",
        "                nums[i], nums[i + 1] = nums[i + 1], nums[i]\n",
        "        n += 1\n",
        "    return nums\n",
        "\n",
        "\n",
        "def binary_search(array, element, left, right):  # Алгоритм двоичного поиска\n",
        "    try:\n",
        "        if left > right:  # если левая граница превысила правую,\n",
        "            return False  # значит элемент отсутствует\n",
        "\n",
        "        middle = (right + left) // 2  # находимо середину\n",
        "        if array[middle] == element:  # если элемент в середине,\n",
        "            return middle  # возвращаем этот индекс\n",
        "        elif element < array[middle]:  # если элемент меньше элемента в середине\n",
        "            # рекурсивно ищем в левой половине\n",
        "            return binary_search(array, element, left, middle - 1)\n",
        "        else:  # иначе в правой\n",
        "            return binary_search(array, element, middle + 1, right)\n",
        "    except IndexError:\n",
        "        return 'Число не соответствует диапазону'\n",
        "\n",
        "\n",
        "# Ввод последовательности чисел и преобразование в список\n",
        "list_vod = input(\"Введите последовательность натуральных чисел\"\n",
        "                 \" через пробел\\nНапример(27 8 4 90 64 32 17 29 33): \")\n",
        "list_numer = [int(x) for x in list_vod.split()]\n",
        "\n",
        "# Ввод значения для поиска индекса меньшего числа в пределах диапазона списка\n",
        "list_min, list_max = min(list_numer), max(list_numer)\n",
        "vod = True  # Пока не введено число в диапазоне для поиска\n",
        "numer = 0\n",
        "while vod:\n",
        "    numer = input(f'Введите число для определения индекса меньшего'\n",
        "                  f', чем вводимое в диапазоне ({list_min + 1}-{list_max}):')\n",
        "    numer = int(numer)\n",
        "    if not list_min < numer <= list_max:\n",
        "        print('Число вне диапазона. Повторите ввод.')\n",
        "    else:\n",
        "        vod = False\n",
        "\n",
        "list_numer.append(numer)  # ввод поискового числа\n",
        "# Сортировка по возрастанию алгоритмом пузырёк\n",
        "list_puz = sort_puz(list_numer)\n",
        "# Вызов алгоритма двоичного поиска и вывод индекса\n",
        "index = binary_search(list_puz, numer, 0, len(list_puz) - 1)\n",
        "print(\"Индекс числа меньшего, чем введенное:\", index - 1)\n",
        "list_puz.pop(index)  # удаление поискового числа\n",
        "print(list_puz)"
      ],
      "metadata": {
        "id": "pVx3RfTX1-xh"
      },
      "execution_count": null,
      "outputs": []
    }
  ]
}