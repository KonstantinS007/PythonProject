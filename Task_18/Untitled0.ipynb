{
  "nbformat": 4,
  "nbformat_minor": 0,
  "metadata": {
    "colab": {
      "provenance": [],
      "authorship_tag": "ABX9TyMl5iGHOQa/e7ZNLhq8l0cr",
      "include_colab_link": true
    },
    "kernelspec": {
      "name": "python3",
      "display_name": "Python 3"
    },
    "language_info": {
      "name": "python"
    }
  },
  "cells": [
    {
      "cell_type": "markdown",
      "metadata": {
        "id": "view-in-github",
        "colab_type": "text"
      },
      "source": [
        "<a href=\"https://colab.research.google.com/github/KonstantinS007/pythonProject/blob/master/Task_18/Untitled0.ipynb\" target=\"_parent\"><img src=\"https://colab.research.google.com/assets/colab-badge.svg\" alt=\"Open In Colab\"/></a>"
      ]
    },
    {
      "cell_type": "code",
      "execution_count": 1,
      "metadata": {
        "colab": {
          "base_uri": "https://localhost:8080/"
        },
        "id": "HcPtsFjJrFjd",
        "outputId": "e6a393bc-5434-4cb2-ad72-66d30f7d0ca1"
      },
      "outputs": [
        {
          "output_type": "stream",
          "name": "stdout",
          "text": [
            "b'[\"Duis minim incididunt proident alcatra swine officia beef ribs bacon.  Adipisicing dolore sunt biltong sausage cupidatat chislic ea sed shank eiusmod venison kielbasa bacon.  T-bone ad incididunt eu enim esse tri-tip pork chop aliquip ham.  Magna eiusmod burgdoggen biltong aliquip id cupim velit et dolore meatball filet mignon capicola nisi occaecat.  Enim est chislic jerky aliquip, labore ex reprehenderit duis nulla pig kielbasa boudin ham hock veniam.  Laboris lorem meatloaf jowl.  Enim frankfurter adipisicing, beef sirloin ground round ad sed ut culpa jerky.\",\"Consequat beef ribs qui, lorem tenderloin strip steak sint commodo andouille brisket pariatur ut landjaeger shank officia.  Aute drumstick ullamco ham hock kielbasa cupim ribeye magna exercitation capicola chuck pork chop.  Cow bacon est, meatloaf ipsum commodo beef porchetta enim corned beef excepteur.  Mollit leberkas deserunt biltong, cupim cillum tempor culpa pork loin ad short ribs ut velit dolore.  Culpa tail frankfurter aliqua in, chicken fugiat chuck tempor.  Cillum frankfurter deserunt biltong kevin incididunt qui tempor elit shankle leberkas flank.  Quis chicken leberkas, tenderloin pig shankle anim.\",\"Swine pancetta fugiat spare ribs enim, shankle flank landjaeger velit picanha consectetur lorem pork chop pork loin kevin.  Pastrami exercitation magna, doner pig ham hock bresaola deserunt velit spare ribs ipsum est cupidatat nostrud.  Et nostrud salami, consequat strip steak qui consectetur irure.  Ham bacon sausage laborum.  Cow kielbasa do sausage t-bone ut.  Strip steak lorem ut ham hock tongue capicola flank pork qui biltong cupim kielbasa occaecat meatball.  Magna pig pork belly aliqua.\",\"Rump spare ribs corned beef incididunt pastrami reprehenderit sausage meatloaf.  Chicken duis bresaola ribeye veniam consectetur pastrami short loin sint incididunt chuck fugiat sunt.  Ribeye officia pariatur enim picanha dolore.  Magna kielbasa non est ball tip, sirloin chicken pork consectetur qui mollit voluptate ipsum alcatra biltong.\",\"Beef ribs turducken elit irure consequat sausage dolor cupim aliquip salami mollit reprehenderit ribeye.  Fugiat turducken venison aliqua, sirloin velit occaecat est pariatur alcatra strip steak in chislic burgdoggen.  Minim cupidatat in veniam pig lorem.  Quis eu in capicola turducken, in beef laborum ribeye.  Meatloaf est rump esse ball tip reprehenderit, pork in ut et commodo salami meatball magna short loin.  Ea cow picanha, beef ribs leberkas ground round enim ut cupim turducken.\"]'\n"
          ]
        }
      ],
      "source": [
        "import requests\n",
        " \n",
        " \n",
        "r = requests.get('https://baconipsum.com/api/?type=meat-and-filler') # попробуем поймать json ответ\n",
        "print(r.content)\n"
      ]
    },
    {
      "cell_type": "code",
      "source": [],
      "metadata": {
        "id": "-lXA1uLHsSi9"
      },
      "execution_count": null,
      "outputs": []
    }
  ]
}