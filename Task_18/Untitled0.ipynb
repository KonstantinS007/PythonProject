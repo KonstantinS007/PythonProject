{
  "nbformat": 4,
  "nbformat_minor": 0,
  "metadata": {
    "colab": {
      "provenance": [],
      "authorship_tag": "ABX9TyPiXukYOGsrAdcLRkAkF7ZP",
      "include_colab_link": true
    },
    "kernelspec": {
      "name": "python3",
      "display_name": "Python 3"
    },
    "language_info": {
      "name": "python"
    }
  },
  "cells": [
    {
      "cell_type": "markdown",
      "metadata": {
        "id": "view-in-github",
        "colab_type": "text"
      },
      "source": [
        "<a href=\"https://colab.research.google.com/github/KonstantinS007/pythonProject/blob/master/Task_18/Untitled0.ipynb\" target=\"_parent\"><img src=\"https://colab.research.google.com/assets/colab-badge.svg\" alt=\"Open In Colab\"/></a>"
      ]
    },
    {
      "cell_type": "code",
      "execution_count": 1,
      "metadata": {
        "colab": {
          "base_uri": "https://localhost:8080/"
        },
        "id": "HcPtsFjJrFjd",
        "outputId": "e6a393bc-5434-4cb2-ad72-66d30f7d0ca1"
      },
      "outputs": [
        {
          "output_type": "stream",
          "name": "stdout",
          "text": [
            "b'[\"Duis minim incididunt proident alcatra swine officia beef ribs bacon.  Adipisicing dolore sunt biltong sausage cupidatat chislic ea sed shank eiusmod venison kielbasa bacon.  T-bone ad incididunt eu enim esse tri-tip pork chop aliquip ham.  Magna eiusmod burgdoggen biltong aliquip id cupim velit et dolore meatball filet mignon capicola nisi occaecat.  Enim est chislic jerky aliquip, labore ex reprehenderit duis nulla pig kielbasa boudin ham hock veniam.  Laboris lorem meatloaf jowl.  Enim frankfurter adipisicing, beef sirloin ground round ad sed ut culpa jerky.\",\"Consequat beef ribs qui, lorem tenderloin strip steak sint commodo andouille brisket pariatur ut landjaeger shank officia.  Aute drumstick ullamco ham hock kielbasa cupim ribeye magna exercitation capicola chuck pork chop.  Cow bacon est, meatloaf ipsum commodo beef porchetta enim corned beef excepteur.  Mollit leberkas deserunt biltong, cupim cillum tempor culpa pork loin ad short ribs ut velit dolore.  Culpa tail frankfurter aliqua in, chicken fugiat chuck tempor.  Cillum frankfurter deserunt biltong kevin incididunt qui tempor elit shankle leberkas flank.  Quis chicken leberkas, tenderloin pig shankle anim.\",\"Swine pancetta fugiat spare ribs enim, shankle flank landjaeger velit picanha consectetur lorem pork chop pork loin kevin.  Pastrami exercitation magna, doner pig ham hock bresaola deserunt velit spare ribs ipsum est cupidatat nostrud.  Et nostrud salami, consequat strip steak qui consectetur irure.  Ham bacon sausage laborum.  Cow kielbasa do sausage t-bone ut.  Strip steak lorem ut ham hock tongue capicola flank pork qui biltong cupim kielbasa occaecat meatball.  Magna pig pork belly aliqua.\",\"Rump spare ribs corned beef incididunt pastrami reprehenderit sausage meatloaf.  Chicken duis bresaola ribeye veniam consectetur pastrami short loin sint incididunt chuck fugiat sunt.  Ribeye officia pariatur enim picanha dolore.  Magna kielbasa non est ball tip, sirloin chicken pork consectetur qui mollit voluptate ipsum alcatra biltong.\",\"Beef ribs turducken elit irure consequat sausage dolor cupim aliquip salami mollit reprehenderit ribeye.  Fugiat turducken venison aliqua, sirloin velit occaecat est pariatur alcatra strip steak in chislic burgdoggen.  Minim cupidatat in veniam pig lorem.  Quis eu in capicola turducken, in beef laborum ribeye.  Meatloaf est rump esse ball tip reprehenderit, pork in ut et commodo salami meatball magna short loin.  Ea cow picanha, beef ribs leberkas ground round enim ut cupim turducken.\"]'\n"
          ]
        }
      ],
      "source": [
        "import requests\n",
        " \n",
        " \n",
        "r = requests.get('https://baconipsum.com/api/?type=meat-and-filler') # попробуем поймать json ответ\n",
        "print(r.content)\n"
      ]
    },
    {
      "cell_type": "code",
      "source": [
        "import requests\n",
        "import json # импортируем необходимую библиотеку\n",
        " \n",
        " \n",
        "r = requests.get('https://baconipsum.com/api/?type=meat-and-filler')\n",
        "texts = json.loads(r.content) # делаем из полученных байтов python объект для удобной работы\n",
        "print(type(texts)) # проверяем тип сконвертированных данных\n",
        " \n",
        "for text in texts: # выводим полученный текст. Но для того чтобы он влез в консоль оставим только первые 50 символов.\n",
        "    print(text[:50], '\\n')"
      ],
      "metadata": {
        "colab": {
          "base_uri": "https://localhost:8080/"
        },
        "id": "-lXA1uLHsSi9",
        "outputId": "ddbd7e45-ac4f-4eb1-83f6-729573b0e280"
      },
      "execution_count": 3,
      "outputs": [
        {
          "output_type": "stream",
          "name": "stdout",
          "text": [
            "<class 'list'>\n",
            "Brisket commodo beef ribs enim, ipsum landjaeger s \n",
            "\n",
            "Cow drumstick dolore, sausage pork belly chuck ea  \n",
            "\n",
            "Chuck doner anim, cow ex shankle sunt tenderloin b \n",
            "\n",
            "Buffalo andouille lorem beef ribs ball tip ut, vol \n",
            "\n",
            "Cupidatat laborum strip steak est reprehenderit ba \n",
            "\n"
          ]
        }
      ]
    },
    {
      "cell_type": "code",
      "source": [
        "import requests\n",
        "import json\n",
        " \n",
        " \n",
        "r = requests.get('https://api.github.com')\n",
        " \n",
        "print(r.content)"
      ],
      "metadata": {
        "colab": {
          "base_uri": "https://localhost:8080/"
        },
        "id": "XSv0uCuZuEMS",
        "outputId": "cd082e80-53f1-4a62-d912-43d5e5494fbb"
      },
      "execution_count": 4,
      "outputs": [
        {
          "output_type": "stream",
          "name": "stdout",
          "text": [
            "b'{\"current_user_url\":\"https://api.github.com/user\",\"current_user_authorizations_html_url\":\"https://github.com/settings/connections/applications{/client_id}\",\"authorizations_url\":\"https://api.github.com/authorizations\",\"code_search_url\":\"https://api.github.com/search/code?q={query}{&page,per_page,sort,order}\",\"commit_search_url\":\"https://api.github.com/search/commits?q={query}{&page,per_page,sort,order}\",\"emails_url\":\"https://api.github.com/user/emails\",\"emojis_url\":\"https://api.github.com/emojis\",\"events_url\":\"https://api.github.com/events\",\"feeds_url\":\"https://api.github.com/feeds\",\"followers_url\":\"https://api.github.com/user/followers\",\"following_url\":\"https://api.github.com/user/following{/target}\",\"gists_url\":\"https://api.github.com/gists{/gist_id}\",\"hub_url\":\"https://api.github.com/hub\",\"issue_search_url\":\"https://api.github.com/search/issues?q={query}{&page,per_page,sort,order}\",\"issues_url\":\"https://api.github.com/issues\",\"keys_url\":\"https://api.github.com/user/keys\",\"label_search_url\":\"https://api.github.com/search/labels?q={query}&repository_id={repository_id}{&page,per_page}\",\"notifications_url\":\"https://api.github.com/notifications\",\"organization_url\":\"https://api.github.com/orgs/{org}\",\"organization_repositories_url\":\"https://api.github.com/orgs/{org}/repos{?type,page,per_page,sort}\",\"organization_teams_url\":\"https://api.github.com/orgs/{org}/teams\",\"public_gists_url\":\"https://api.github.com/gists/public\",\"rate_limit_url\":\"https://api.github.com/rate_limit\",\"repository_url\":\"https://api.github.com/repos/{owner}/{repo}\",\"repository_search_url\":\"https://api.github.com/search/repositories?q={query}{&page,per_page,sort,order}\",\"current_user_repositories_url\":\"https://api.github.com/user/repos{?type,page,per_page,sort}\",\"starred_url\":\"https://api.github.com/user/starred{/owner}{/repo}\",\"starred_gists_url\":\"https://api.github.com/gists/starred\",\"topic_search_url\":\"https://api.github.com/search/topics?q={query}{&page,per_page}\",\"user_url\":\"https://api.github.com/users/{user}\",\"user_organizations_url\":\"https://api.github.com/user/orgs\",\"user_repositories_url\":\"https://api.github.com/users/{user}/repos{?type,page,per_page,sort}\",\"user_search_url\":\"https://api.github.com/search/users?q={query}{&page,per_page,sort,order}\"}'\n"
          ]
        }
      ]
    },
    {
      "cell_type": "code",
      "source": [
        "import requests\n",
        "import json\n",
        " \n",
        "r = requests.get('https://api.github.com')\n",
        " \n",
        "d = json.loads(r.content) # делаем из полученных байтов python объект для удобной работы\n",
        " \n",
        "print(type(d))\n",
        "print(d['following_url']) # обращаемся к полученному объекту как к словарю и попробуем напечатать одно из его значений"
      ],
      "metadata": {
        "colab": {
          "base_uri": "https://localhost:8080/"
        },
        "id": "ldqJXp8quPig",
        "outputId": "ed3f377c-78f2-476d-e3e7-df1902ba0056"
      },
      "execution_count": 5,
      "outputs": [
        {
          "output_type": "stream",
          "name": "stdout",
          "text": [
            "<class 'dict'>\n",
            "https://api.github.com/user/following{/target}\n"
          ]
        }
      ]
    },
    {
      "cell_type": "code",
      "source": [
        "import requests\n",
        " \n",
        " \n",
        "r = requests.post('https://httpbin.org/post', data = {'key':'value'}) # отправляем пост запрос\n",
        "print(r.content) # содержимое ответа и его обработка происходит так же, как и с гет-запросами, разницы никакой нет"
      ],
      "metadata": {
        "colab": {
          "base_uri": "https://localhost:8080/"
        },
        "id": "A46o8lWlxhKp",
        "outputId": "024605d7-3692-4703-a052-055d2e036c1f"
      },
      "execution_count": 6,
      "outputs": [
        {
          "output_type": "stream",
          "name": "stdout",
          "text": [
            "b'{\\n  \"args\": {}, \\n  \"data\": \"\", \\n  \"files\": {}, \\n  \"form\": {\\n    \"key\": \"value\"\\n  }, \\n  \"headers\": {\\n    \"Accept\": \"*/*\", \\n    \"Accept-Encoding\": \"gzip, deflate\", \\n    \"Content-Length\": \"9\", \\n    \"Content-Type\": \"application/x-www-form-urlencoded\", \\n    \"Host\": \"httpbin.org\", \\n    \"User-Agent\": \"python-requests/2.25.1\", \\n    \"X-Amzn-Trace-Id\": \"Root=1-63dd61d5-004047cb23149a9b30a9068c\"\\n  }, \\n  \"json\": null, \\n  \"origin\": \"35.239.23.72\", \\n  \"url\": \"https://httpbin.org/post\"\\n}\\n'\n"
          ]
        }
      ]
    },
    {
      "cell_type": "code",
      "source": [
        "import requests\n",
        "import json\n",
        " \n",
        " \n",
        "data = {'key': 'value'}\n",
        " \n",
        "r = requests.post('https://httpbin.org/post', json=json.dumps(data)) # отправляем пост запрос, но только в этот раз тип передаваемых данных будет JSON \n",
        "print(r.content)"
      ],
      "metadata": {
        "colab": {
          "base_uri": "https://localhost:8080/"
        },
        "id": "UOFuwHYgxxCM",
        "outputId": "d5b94010-f9d2-40b9-8760-edf2a8a6b65a"
      },
      "execution_count": 7,
      "outputs": [
        {
          "output_type": "stream",
          "name": "stdout",
          "text": [
            "b'<html>\\r\\n<head><title>502 Bad Gateway</title></head>\\r\\n<body>\\r\\n<center><h1>502 Bad Gateway</h1></center>\\r\\n</body>\\r\\n</html>\\r\\n'\n"
          ]
        }
      ]
    }
  ]
}